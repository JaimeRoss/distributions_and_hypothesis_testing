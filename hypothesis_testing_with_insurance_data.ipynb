{
 "cells": [
  {
   "cell_type": "code",
   "execution_count": 68,
   "id": "29b0d02d-35f6-4404-be09-f266757f7deb",
   "metadata": {},
   "outputs": [],
   "source": [
    "#Imports\n",
    "import pandas as pd\n",
    "import numpy as np\n",
    "import matplotlib.pyplot as plt\n",
    "import seaborn as sns\n",
    "import scipy.stats as stats\n",
    "from statsmodels.stats.multicomp import pairwise_tukeyhsd"
   ]
  },
  {
   "cell_type": "code",
   "execution_count": 2,
   "id": "195d74e9-070b-492b-bb30-d5b9ce11ded6",
   "metadata": {},
   "outputs": [
    {
     "data": {
      "text/html": [
       "<div>\n",
       "<style scoped>\n",
       "    .dataframe tbody tr th:only-of-type {\n",
       "        vertical-align: middle;\n",
       "    }\n",
       "\n",
       "    .dataframe tbody tr th {\n",
       "        vertical-align: top;\n",
       "    }\n",
       "\n",
       "    .dataframe thead th {\n",
       "        text-align: right;\n",
       "    }\n",
       "</style>\n",
       "<table border=\"1\" class=\"dataframe\">\n",
       "  <thead>\n",
       "    <tr style=\"text-align: right;\">\n",
       "      <th></th>\n",
       "      <th>age</th>\n",
       "      <th>sex</th>\n",
       "      <th>bmi</th>\n",
       "      <th>children</th>\n",
       "      <th>smoker</th>\n",
       "      <th>region</th>\n",
       "      <th>charges</th>\n",
       "    </tr>\n",
       "  </thead>\n",
       "  <tbody>\n",
       "    <tr>\n",
       "      <th>0</th>\n",
       "      <td>19</td>\n",
       "      <td>female</td>\n",
       "      <td>27.900</td>\n",
       "      <td>0</td>\n",
       "      <td>yes</td>\n",
       "      <td>southwest</td>\n",
       "      <td>16884.92400</td>\n",
       "    </tr>\n",
       "    <tr>\n",
       "      <th>1</th>\n",
       "      <td>18</td>\n",
       "      <td>male</td>\n",
       "      <td>33.770</td>\n",
       "      <td>1</td>\n",
       "      <td>no</td>\n",
       "      <td>southeast</td>\n",
       "      <td>1725.55230</td>\n",
       "    </tr>\n",
       "    <tr>\n",
       "      <th>2</th>\n",
       "      <td>28</td>\n",
       "      <td>male</td>\n",
       "      <td>33.000</td>\n",
       "      <td>3</td>\n",
       "      <td>no</td>\n",
       "      <td>southeast</td>\n",
       "      <td>4449.46200</td>\n",
       "    </tr>\n",
       "    <tr>\n",
       "      <th>3</th>\n",
       "      <td>33</td>\n",
       "      <td>male</td>\n",
       "      <td>22.705</td>\n",
       "      <td>0</td>\n",
       "      <td>no</td>\n",
       "      <td>northwest</td>\n",
       "      <td>21984.47061</td>\n",
       "    </tr>\n",
       "    <tr>\n",
       "      <th>4</th>\n",
       "      <td>32</td>\n",
       "      <td>male</td>\n",
       "      <td>28.880</td>\n",
       "      <td>0</td>\n",
       "      <td>no</td>\n",
       "      <td>northwest</td>\n",
       "      <td>3866.85520</td>\n",
       "    </tr>\n",
       "  </tbody>\n",
       "</table>\n",
       "</div>"
      ],
      "text/plain": [
       "   age     sex     bmi  children smoker     region      charges\n",
       "0   19  female  27.900         0    yes  southwest  16884.92400\n",
       "1   18    male  33.770         1     no  southeast   1725.55230\n",
       "2   28    male  33.000         3     no  southeast   4449.46200\n",
       "3   33    male  22.705         0     no  northwest  21984.47061\n",
       "4   32    male  28.880         0     no  northwest   3866.85520"
      ]
     },
     "execution_count": 2,
     "metadata": {},
     "output_type": "execute_result"
    }
   ],
   "source": [
    "#Loading in data\n",
    "df = pd.read_csv(\"https://docs.google.com/spreadsheets/d/e/2PACX-1vQBN8DPW2rdiRrY34eEM53HAzakNGSRrw4ogI-j8HyCUrbqTB_z4CeIn2IvjLF-w_6sOe5pIlypJGAA/pub?output=csv\")\n",
    "df.head()"
   ]
  },
  {
   "cell_type": "code",
   "execution_count": 3,
   "id": "60925858-be27-4e1e-943e-4bf0e0ceab83",
   "metadata": {},
   "outputs": [
    {
     "data": {
      "text/plain": [
       "age           int64\n",
       "sex          object\n",
       "bmi         float64\n",
       "children      int64\n",
       "smoker       object\n",
       "region       object\n",
       "charges     float64\n",
       "dtype: object"
      ]
     },
     "execution_count": 3,
     "metadata": {},
     "output_type": "execute_result"
    }
   ],
   "source": [
    "# Checking data types for features\n",
    "df.dtypes"
   ]
  },
  {
   "cell_type": "code",
   "execution_count": 4,
   "id": "374da03a-a21e-4627-b234-a7c9010362e9",
   "metadata": {},
   "outputs": [
    {
     "data": {
      "text/plain": [
       "southeast    364\n",
       "southwest    325\n",
       "northwest    325\n",
       "northeast    324\n",
       "Name: region, dtype: int64"
      ]
     },
     "execution_count": 4,
     "metadata": {},
     "output_type": "execute_result"
    }
   ],
   "source": [
    "# Checking value counts for feature\n",
    "df[\"region\"].value_counts()"
   ]
  },
  {
   "cell_type": "code",
   "execution_count": 5,
   "id": "619713ef-ac27-4c87-a1cf-55ce144fa9c8",
   "metadata": {},
   "outputs": [
    {
     "data": {
      "text/plain": [
       "no     1064\n",
       "yes     274\n",
       "Name: smoker, dtype: int64"
      ]
     },
     "execution_count": 5,
     "metadata": {},
     "output_type": "execute_result"
    }
   ],
   "source": [
    "# Checking value counts for feature\n",
    "df[\"smoker\"].value_counts()"
   ]
  },
  {
   "cell_type": "code",
   "execution_count": 6,
   "id": "f1ef2b89-8c37-47f2-a06c-eab8f28de72d",
   "metadata": {},
   "outputs": [
    {
     "data": {
      "text/plain": [
       "male      676\n",
       "female    662\n",
       "Name: sex, dtype: int64"
      ]
     },
     "execution_count": 6,
     "metadata": {},
     "output_type": "execute_result"
    }
   ],
   "source": [
    "# Checking value counts for feature\n",
    "df[\"sex\"].value_counts()"
   ]
  },
  {
   "cell_type": "markdown",
   "id": "dee594f6-d7af-4574-bf4f-38bffe3d9907",
   "metadata": {},
   "source": [
    "# Question:1 Do smokers have higher insurance charges than non-smokers?"
   ]
  },
  {
   "cell_type": "markdown",
   "id": "c5e2ae5b-ab12-4115-81ee-f75d48a9758a",
   "metadata": {},
   "source": [
    "# Null and alternate hypothesis\n",
    "\n",
    "Null hypothesis - \"Smokers and non-smokers have equal insurance charges.\"\n",
    "\n",
    "Alternate hypothesis - \"There is a significant difference in insurance charges for smokers compared to non-smokers.\""
   ]
  },
  {
   "cell_type": "markdown",
   "id": "4f618aff-edd9-4254-bc88-aa06fd2f22a4",
   "metadata": {},
   "source": [
    "# Test Selection\n",
    "2 sample T-test\n",
    "\n",
    "ALPHA - 0.05"
   ]
  },
  {
   "cell_type": "code",
   "execution_count": 7,
   "id": "26636b14-3fc5-479d-9166-eb467a1b8058",
   "metadata": {},
   "outputs": [
    {
     "name": "stdout",
     "output_type": "stream",
     "text": [
      "For smokers (n=22): Insurance charges Mean=32997.31\n",
      "For non-smokers (n=78): Insurance charges Mean=8394.54\n"
     ]
    }
   ],
   "source": [
    "# creating samples\n",
    "sample = df.sample(n = 100,random_state = 42)\n",
    "yesinschar =sample.loc[df[\"smoker\"] == \"yes\", \"charges\"]\n",
    "\n",
    "noinschar = sample.loc[df[\"smoker\"] == \"no\", \"charges\"]\n",
    "\n",
    "print(f\"For smokers (n={len(yesinschar)}): Insurance charges Mean={np.mean(yesinschar):.2f}\")\n",
    "print(f\"For non-smokers (n={len(noinschar)}): Insurance charges Mean={np.mean(noinschar):.2f}\")"
   ]
  },
  {
   "cell_type": "code",
   "execution_count": 8,
   "id": "369ec6b5-ad26-4c3e-835f-2ded8f9432ff",
   "metadata": {},
   "outputs": [
    {
     "data": {
      "image/png": "[encoded data removed]",
      "text/plain": [
       "<Figure size 640x480 with 1 Axes>"
      ]
     },
     "metadata": {},
     "output_type": "display_data"
    }
   ],
   "source": [
    "# visualising samples\n",
    "smoker_palette = {\"yes\":\"blue\", \"no\":\"orange\"}\n",
    "ax = sns.histplot(data = sample, x= \"charges\" , hue = \"smoker\", fill = True, kde = True, \n",
    "                  stat = \"density\", common_norm = False, palette=smoker_palette)\n",
    "ax.axvline(np.mean(yesinschar), ls='--', lw=3, \n",
    "           label=f\"Smokers (Mean={np.mean(yesinschar):.2f})\",color=smoker_palette[\"yes\"])\n",
    "ax.axvline(np.mean(noinschar), ls='--', lw=3, \n",
    "           label=f\"Non-smokers (Mean={np.mean(noinschar):.2f})\",color=smoker_palette[\"no\"])\n",
    "ax.legend(prop={\"size\":7}, loc='upper right')\n",
    "ax.set_title(\"Histogram for sample taken\");"
   ]
  },
  {
   "cell_type": "code",
   "execution_count": 9,
   "id": "b538bbd3-a1db-43da-9d97-50b747229e9d",
   "metadata": {},
   "outputs": [],
   "source": [
    "# Testing assumptions of test\n",
    "# No significant outliers\n",
    "# Normality \n",
    "# Equal Variance "
   ]
  },
  {
   "cell_type": "code",
   "execution_count": 10,
   "id": "f0fa5c6e-1d96-4981-b1f0-47c6bbfeb09b",
   "metadata": {},
   "outputs": [
    {
     "data": {
      "text/plain": [
       "0"
      ]
     },
     "execution_count": 10,
     "metadata": {},
     "output_type": "execute_result"
    }
   ],
   "source": [
    "# Outliers\n",
    "zscores_yes = stats.zscore(yesinschar)\n",
    "outliers_yes = abs(zscores_yes)>3\n",
    "np.sum(outliers_yes)"
   ]
  },
  {
   "cell_type": "markdown",
   "id": "8d5ad8fa-2c45-408e-9096-7a8150d12246",
   "metadata": {},
   "source": [
    "There are no outliers in the smoker sample"
   ]
  },
  {
   "cell_type": "code",
   "execution_count": 11,
   "id": "b55c93e6-b41f-435c-87cf-536ba15655ef",
   "metadata": {},
   "outputs": [
    {
     "data": {
      "text/plain": [
       "2"
      ]
     },
     "execution_count": 11,
     "metadata": {},
     "output_type": "execute_result"
    }
   ],
   "source": [
    "# outliers\n",
    "zscores_no = stats.zscore(noinschar)\n",
    "outliers_no = abs(zscores_no)>3\n",
    "np.sum(outliers_no)"
   ]
  },
  {
   "cell_type": "code",
   "execution_count": 35,
   "id": "785e186f-0133-484c-8795-4f8d85cd2405",
   "metadata": {},
   "outputs": [],
   "source": [
    "# removing outliers from non-smoker sample\n",
    "noinschar = noinschar[(np.abs(stats.zscore(noinschar)) < 3)]"
   ]
  },
  {
   "cell_type": "code",
   "execution_count": 36,
   "id": "525fff7a-b735-4e5f-a6cb-6eb00d1432f2",
   "metadata": {},
   "outputs": [
    {
     "data": {
      "text/plain": [
       "0"
      ]
     },
     "execution_count": 36,
     "metadata": {},
     "output_type": "execute_result"
    }
   ],
   "source": [
    "# outliers\n",
    "zscores_no = stats.zscore(noinschar)\n",
    "outliers_no = abs(zscores_no)>3\n",
    "np.sum(outliers_no)"
   ]
  },
  {
   "cell_type": "code",
   "execution_count": 37,
   "id": "8ee3e109-d054-4d9f-b132-2c97cb862bb7",
   "metadata": {},
   "outputs": [
    {
     "name": "stdout",
     "output_type": "stream",
     "text": [
      "NormaltestResult(statistic=8.481188655372003, pvalue=0.014399031556451041)\n"
     ]
    },
    {
     "data": {
      "text/plain": [
       "False"
      ]
     },
     "execution_count": 37,
     "metadata": {},
     "output_type": "execute_result"
    }
   ],
   "source": [
    "# Normality\n",
    "result_yes = stats.normaltest(yesinschar)\n",
    "print(result_yes)\n",
    "result_yes.pvalue > 0.05"
   ]
  },
  {
   "cell_type": "code",
   "execution_count": 38,
   "id": "e7696839-d2d7-4de7-95a3-a0ca62cfb272",
   "metadata": {},
   "outputs": [
    {
     "name": "stdout",
     "output_type": "stream",
     "text": [
      "NormaltestResult(statistic=4.011538559343466, pvalue=0.1345567441026122)\n"
     ]
    },
    {
     "data": {
      "text/plain": [
       "True"
      ]
     },
     "execution_count": 38,
     "metadata": {},
     "output_type": "execute_result"
    }
   ],
   "source": [
    "# Normality\n",
    "result_no = stats.normaltest(noinschar)\n",
    "print(result_no)\n",
    "result_no.pvalue > 0.05"
   ]
  },
  {
   "cell_type": "markdown",
   "id": "69499b3d-f20f-4b83-a575-cc16e5b8b078",
   "metadata": {},
   "source": [
    "The smoker sample failed the normality test. This is not a normal distribution, however we have a large enough sample so we can proceed."
   ]
  },
  {
   "cell_type": "code",
   "execution_count": 16,
   "id": "f882d7f1-e99b-4607-aac7-d750d6d70137",
   "metadata": {},
   "outputs": [
    {
     "name": "stdout",
     "output_type": "stream",
     "text": [
      "LeveneResult(statistic=28.506495620059756, pvalue=6.24829133463234e-07)\n"
     ]
    },
    {
     "data": {
      "text/plain": [
       "False"
      ]
     },
     "execution_count": 16,
     "metadata": {},
     "output_type": "execute_result"
    }
   ],
   "source": [
    "# Equal variance\n",
    "result = stats.levene(yesinschar, noinschar)\n",
    "print(result)\n",
    "result.pvalue > 0.05"
   ]
  },
  {
   "cell_type": "markdown",
   "id": "cb182f75-5476-4136-87bd-5eb0dfb2158a",
   "metadata": {},
   "source": [
    "We do not have equal variance amongst the sample, so we will make use of equal_var = False when doing our test."
   ]
  },
  {
   "cell_type": "code",
   "execution_count": 39,
   "id": "b0839666-e191-41fb-907d-f80a4d2cf5c1",
   "metadata": {},
   "outputs": [
    {
     "data": {
      "text/plain": [
       "Ttest_indResult(statistic=11.441281148432447, pvalue=5.6151366040908574e-11)"
      ]
     },
     "execution_count": 39,
     "metadata": {},
     "output_type": "execute_result"
    }
   ],
   "source": [
    "# Executing test\n",
    "## Final t-test, after confirming we meet the assumptions\n",
    "result = stats.ttest_ind(yesinschar,noinschar, equal_var = False)\n",
    "result"
   ]
  },
  {
   "cell_type": "code",
   "execution_count": 40,
   "id": "8a485dc9-04d3-4930-8fa3-62fb98854d00",
   "metadata": {},
   "outputs": [
    {
     "name": "stdout",
     "output_type": "stream",
     "text": [
      "p-value=0.0000000001\n",
      "Significant: True\n"
     ]
    }
   ],
   "source": [
    "## is our result significant??\n",
    "print(f\"p-value={result.pvalue:.10f}\")\n",
    "print(f\"Significant: {result.pvalue < 0.05}\")"
   ]
  },
  {
   "cell_type": "markdown",
   "id": "d3f6dfb5-8a07-4603-a873-3fb4f1cb03e1",
   "metadata": {},
   "source": [
    "# Interpreting p-value and reject or fail to reject the null hypothesis \n",
    "\n",
    "We have a significant result for this test. We can therefore reject our null hypothesis and conclude that there is a significant difference in insurance charges for smokers compared to non-smokers. Smokers have higher insurance charges compared to non-smokers"
   ]
  },
  {
   "cell_type": "code",
   "execution_count": 19,
   "id": "2b0c650e-3bcb-4d36-baf4-a8e6ca2053a5",
   "metadata": {},
   "outputs": [
    {
     "data": {
      "image/png": "[encoded data removed]",
      "text/plain": [
       "<Figure size 640x480 with 1 Axes>"
      ]
     },
     "metadata": {},
     "output_type": "display_data"
    }
   ],
   "source": [
    "# Supporting visual\n",
    "ax = sns.barplot(data = df, x = \"smoker\", y = \"charges\")\n",
    "ax.set_title(\"Barplot for average insurance charges based on smoker status\");"
   ]
  },
  {
   "cell_type": "markdown",
   "id": "5c5c1cc4-f3b6-40c3-ba1d-c82e44847f49",
   "metadata": {},
   "source": [
    "# Question:2 Are men more likely to smoke than women?"
   ]
  },
  {
   "cell_type": "markdown",
   "id": "177cf2e2-1f57-4582-b1cf-9e95939d4624",
   "metadata": {},
   "source": [
    "# Null and alternate hypothesis\n",
    "\n",
    "Null hypothesis - \"There is no difference in the likelihood of men who smoke, compared to woman who smoke.\"\n",
    "\n",
    "Alternate hypothesis - \"There is a significant difference that indicates men are more likely to smoke compared to woman.\""
   ]
  },
  {
   "cell_type": "markdown",
   "id": "c0c38f3e-5baa-48cd-a3d8-f24337eab678",
   "metadata": {},
   "source": [
    "# Test Selection\n",
    "Chi-squared\n",
    "\n",
    "ALPHA - 0.05"
   ]
  },
  {
   "cell_type": "code",
   "execution_count": 20,
   "id": "fb64ab9b-fe0a-4f59-908a-926a1ec4139e",
   "metadata": {},
   "outputs": [
    {
     "data": {
      "image/png": "[encoded data removed]",
      "text/plain": [
       "<Figure size 640x480 with 1 Axes>"
      ]
     },
     "metadata": {},
     "output_type": "display_data"
    }
   ],
   "source": [
    "# Visualising the smoker status of men compared to woman.\n",
    "ax = sns.countplot(data = df,x = \"sex\",hue = \"smoker\")\n",
    "ax.set_title(\"Countplot showing smoker status counts for men VS woman\");"
   ]
  },
  {
   "cell_type": "code",
   "execution_count": 21,
   "id": "7f80c471-a538-4fb7-9660-ec96847aec6f",
   "metadata": {},
   "outputs": [
    {
     "data": {
      "text/html": [
       "<div>\n",
       "<style scoped>\n",
       "    .dataframe tbody tr th:only-of-type {\n",
       "        vertical-align: middle;\n",
       "    }\n",
       "\n",
       "    .dataframe tbody tr th {\n",
       "        vertical-align: top;\n",
       "    }\n",
       "\n",
       "    .dataframe thead th {\n",
       "        text-align: right;\n",
       "    }\n",
       "</style>\n",
       "<table border=\"1\" class=\"dataframe\">\n",
       "  <thead>\n",
       "    <tr style=\"text-align: right;\">\n",
       "      <th>smoker</th>\n",
       "      <th>no</th>\n",
       "      <th>yes</th>\n",
       "    </tr>\n",
       "    <tr>\n",
       "      <th>sex</th>\n",
       "      <th></th>\n",
       "      <th></th>\n",
       "    </tr>\n",
       "  </thead>\n",
       "  <tbody>\n",
       "    <tr>\n",
       "      <th>female</th>\n",
       "      <td>547</td>\n",
       "      <td>115</td>\n",
       "    </tr>\n",
       "    <tr>\n",
       "      <th>male</th>\n",
       "      <td>517</td>\n",
       "      <td>159</td>\n",
       "    </tr>\n",
       "  </tbody>\n",
       "</table>\n",
       "</div>"
      ],
      "text/plain": [
       "smoker   no  yes\n",
       "sex             \n",
       "female  547  115\n",
       "male    517  159"
      ]
     },
     "execution_count": 21,
     "metadata": {},
     "output_type": "execute_result"
    }
   ],
   "source": [
    "# getting the crosstab\n",
    "table = pd.crosstab(df[\"sex\"],df[\"smoker\"])\n",
    "table"
   ]
  },
  {
   "cell_type": "code",
   "execution_count": 22,
   "id": "c2e2ddce-d08f-4d86-bce4-c933f9bf74eb",
   "metadata": {},
   "outputs": [],
   "source": [
    "# Testing assumptions of test\n",
    "# There are two categorical variables(ordinal or nominal)\n",
    "# the outcomes are independent"
   ]
  },
  {
   "cell_type": "code",
   "execution_count": 23,
   "id": "354682a1-15f1-44c3-81f6-8453abf3a485",
   "metadata": {},
   "outputs": [],
   "source": [
    "# Executing test\n",
    "result = stats.chi2_contingency(table)\n",
    "chi2, p, deg_free, expected_vals = result"
   ]
  },
  {
   "cell_type": "code",
   "execution_count": 24,
   "id": "0108468a-66b3-44fa-bd03-7eb82fb279af",
   "metadata": {},
   "outputs": [
    {
     "name": "stdout",
     "output_type": "stream",
     "text": [
      "P value :  0.006548143503580696\n"
     ]
    },
    {
     "data": {
      "text/plain": [
       "True"
      ]
     },
     "execution_count": 24,
     "metadata": {},
     "output_type": "execute_result"
    }
   ],
   "source": [
    "# What was our p-value?\n",
    "print(\"P value : \",p)\n",
    "p<.05"
   ]
  },
  {
   "cell_type": "markdown",
   "id": "4a27d4da-4670-4093-b02f-c879f60dca1b",
   "metadata": {},
   "source": [
    "# Interpreting p-value and reject or fail to reject the null hypothesis \n",
    "Our P value is less than 0.05 indicating we have a significant result, we can therefore reject our null hypothesis which is, \"There is no difference in the likelihood of men who smoke, compared to woman who smoke.\" the test indicates that men are more likely to smoke compared to females."
   ]
  },
  {
   "cell_type": "code",
   "execution_count": 25,
   "id": "5d06d087-48c4-413f-a5a5-4696ed3476ae",
   "metadata": {},
   "outputs": [
    {
     "data": {
      "image/png": "[encoded data removed]",
      "text/plain": [
       "<Figure size 640x480 with 1 Axes>"
      ]
     },
     "metadata": {},
     "output_type": "display_data"
    }
   ],
   "source": [
    "# Supporting visual\n",
    "ax = sns.countplot(data = df,x = \"sex\",hue = \"smoker\")\n",
    "ax.set_title(\"Countplot showing smoker status counts for men VS woman\");"
   ]
  },
  {
   "cell_type": "markdown",
   "id": "2a0f5302-07c7-459c-b137-234bb10b667a",
   "metadata": {},
   "source": [
    "# Question:3 Do different regions have different charges, on average?"
   ]
  },
  {
   "cell_type": "markdown",
   "id": "04809317-0f40-4896-9fc2-2ac5a068f7e0",
   "metadata": {},
   "source": [
    "# Null and alternate hypothesis\n",
    "\n",
    "Null hypothesis - \"There is no difference in average charges across different regions.\" \n",
    "\n",
    "Alternate hypothesis - \"There is a significant difference in average charges across different regions.\""
   ]
  },
  {
   "cell_type": "markdown",
   "id": "ae092244-268b-49b4-971a-45c72e31b280",
   "metadata": {},
   "source": [
    "# Test Selection\n",
    "ANOVA\n",
    "ALPHA - 0.05"
   ]
  },
  {
   "cell_type": "code",
   "execution_count": 26,
   "id": "5e4bbf7c-1ccd-49f0-a921-a2ada3cef93a",
   "metadata": {},
   "outputs": [
    {
     "data": {
      "image/png": "[encoded data removed]",
      "text/plain": [
       "<Figure size 640x480 with 1 Axes>"
      ]
     },
     "metadata": {},
     "output_type": "display_data"
    }
   ],
   "source": [
    "# visualising the average charges across different regions\n",
    "ax = sns.barplot(data = df, x=\"region\", y = \"charges\")\n",
    "ax.set_title(\"Barplot showing average insurance charges across different regions\");"
   ]
  },
  {
   "cell_type": "code",
   "execution_count": 27,
   "id": "eb6c939f-b647-4b55-9993-252d9847f7ab",
   "metadata": {},
   "outputs": [
    {
     "data": {
      "text/plain": [
       "dict_keys(['southwest', 'southeast', 'northwest', 'northeast'])"
      ]
     },
     "execution_count": 27,
     "metadata": {},
     "output_type": "execute_result"
    }
   ],
   "source": [
    "# Separating regions into different groups\n",
    "groups = {}\n",
    "## Loop through all unique regions\n",
    "for i in df[\"region\"].unique():\n",
    "    ## Get series for group and rename\n",
    "    data = df.loc[df[\"region\"]==i,\"charges\"].copy()\n",
    "    \n",
    "    # save into the dictionary\n",
    "    groups[i] = data\n",
    "groups.keys()"
   ]
  },
  {
   "cell_type": "code",
   "execution_count": 28,
   "id": "2e48384c-82b4-455c-8721-440445861b4f",
   "metadata": {},
   "outputs": [],
   "source": [
    "# Testing assumptions of test\n",
    "# No significant outliers\n",
    "# Equal variance\n",
    "# normality"
   ]
  },
  {
   "cell_type": "code",
   "execution_count": 29,
   "id": "22c79ed9-2517-44e9-9ecf-29648bda622c",
   "metadata": {},
   "outputs": [
    {
     "data": {
      "text/html": [
       "<div>\n",
       "<style scoped>\n",
       "    .dataframe tbody tr th:only-of-type {\n",
       "        vertical-align: middle;\n",
       "    }\n",
       "\n",
       "    .dataframe tbody tr th {\n",
       "        vertical-align: top;\n",
       "    }\n",
       "\n",
       "    .dataframe thead th {\n",
       "        text-align: right;\n",
       "    }\n",
       "</style>\n",
       "<table border=\"1\" class=\"dataframe\">\n",
       "  <thead>\n",
       "    <tr style=\"text-align: right;\">\n",
       "      <th></th>\n",
       "      <th>n</th>\n",
       "      <th>p</th>\n",
       "      <th>test stat</th>\n",
       "    </tr>\n",
       "  </thead>\n",
       "  <tbody>\n",
       "    <tr>\n",
       "      <th>southwest</th>\n",
       "      <td>325.0</td>\n",
       "      <td>6.125298e-23</td>\n",
       "      <td>102.294059</td>\n",
       "    </tr>\n",
       "    <tr>\n",
       "      <th>southeast</th>\n",
       "      <td>364.0</td>\n",
       "      <td>4.953297e-15</td>\n",
       "      <td>65.877446</td>\n",
       "    </tr>\n",
       "    <tr>\n",
       "      <th>northwest</th>\n",
       "      <td>325.0</td>\n",
       "      <td>5.184209e-24</td>\n",
       "      <td>107.232850</td>\n",
       "    </tr>\n",
       "    <tr>\n",
       "      <th>northeast</th>\n",
       "      <td>324.0</td>\n",
       "      <td>1.455431e-19</td>\n",
       "      <td>86.747629</td>\n",
       "    </tr>\n",
       "  </tbody>\n",
       "</table>\n",
       "</div>"
      ],
      "text/plain": [
       "               n             p   test stat\n",
       "southwest  325.0  6.125298e-23  102.294059\n",
       "southeast  364.0  4.953297e-15   65.877446\n",
       "northwest  325.0  5.184209e-24  107.232850\n",
       "northeast  324.0  1.455431e-19   86.747629"
      ]
     },
     "execution_count": 29,
     "metadata": {},
     "output_type": "execute_result"
    }
   ],
   "source": [
    "# normality\n",
    "norm_results = {}\n",
    "for i, data in groups.items():\n",
    "    stat, p = stats.normaltest(data)\n",
    "    ## save the p val, test statistic, and the size of the group\n",
    "    norm_results[i] = {'n': len(data),\n",
    "                             'p':p,\n",
    "                             'test stat':stat,}\n",
    "## convert to a dataframe\n",
    "norm_results_df = pd.DataFrame(norm_results).T\n",
    "norm_results_df"
   ]
  },
  {
   "cell_type": "code",
   "execution_count": 42,
   "id": "fb28be60-f33d-4974-b105-c0d271ff702e",
   "metadata": {},
   "outputs": [
    {
     "data": {
      "text/html": [
       "<div>\n",
       "<style scoped>\n",
       "    .dataframe tbody tr th:only-of-type {\n",
       "        vertical-align: middle;\n",
       "    }\n",
       "\n",
       "    .dataframe tbody tr th {\n",
       "        vertical-align: top;\n",
       "    }\n",
       "\n",
       "    .dataframe thead th {\n",
       "        text-align: right;\n",
       "    }\n",
       "</style>\n",
       "<table border=\"1\" class=\"dataframe\">\n",
       "  <thead>\n",
       "    <tr style=\"text-align: right;\">\n",
       "      <th></th>\n",
       "      <th>n</th>\n",
       "      <th>p</th>\n",
       "      <th>test stat</th>\n",
       "      <th>sig</th>\n",
       "    </tr>\n",
       "  </thead>\n",
       "  <tbody>\n",
       "    <tr>\n",
       "      <th>southwest</th>\n",
       "      <td>325.0</td>\n",
       "      <td>6.125298e-23</td>\n",
       "      <td>102.294059</td>\n",
       "      <td>True</td>\n",
       "    </tr>\n",
       "    <tr>\n",
       "      <th>southeast</th>\n",
       "      <td>364.0</td>\n",
       "      <td>4.953297e-15</td>\n",
       "      <td>65.877446</td>\n",
       "      <td>True</td>\n",
       "    </tr>\n",
       "    <tr>\n",
       "      <th>northwest</th>\n",
       "      <td>325.0</td>\n",
       "      <td>5.184209e-24</td>\n",
       "      <td>107.232850</td>\n",
       "      <td>True</td>\n",
       "    </tr>\n",
       "    <tr>\n",
       "      <th>northeast</th>\n",
       "      <td>324.0</td>\n",
       "      <td>1.455431e-19</td>\n",
       "      <td>86.747629</td>\n",
       "      <td>True</td>\n",
       "    </tr>\n",
       "  </tbody>\n",
       "</table>\n",
       "</div>"
      ],
      "text/plain": [
       "               n             p   test stat   sig\n",
       "southwest  325.0  6.125298e-23  102.294059  True\n",
       "southeast  364.0  4.953297e-15   65.877446  True\n",
       "northwest  325.0  5.184209e-24  107.232850  True\n",
       "northeast  324.0  1.455431e-19   86.747629  True"
      ]
     },
     "execution_count": 42,
     "metadata": {},
     "output_type": "execute_result"
    }
   ],
   "source": [
    "# checking sig with pandas \n",
    "norm_results_df['sig'] = norm_results_df['p'] < 0.05 \n",
    "norm_results_df"
   ]
  },
  {
   "cell_type": "markdown",
   "id": "260caac5-028b-4af5-aeb3-34c5ce02542b",
   "metadata": {},
   "source": [
    "Every group does not have a normal distribution, however our samples are large, so we can proceed."
   ]
  },
  {
   "cell_type": "code",
   "execution_count": 43,
   "id": "28e6a624-7539-416f-81cb-bcb041311199",
   "metadata": {},
   "outputs": [
    {
     "data": {
      "text/plain": [
       "LeveneResult(statistic=5.559966758410606, pvalue=0.0008610590250786703)"
      ]
     },
     "execution_count": 43,
     "metadata": {},
     "output_type": "execute_result"
    }
   ],
   "source": [
    "# Equal variance\n",
    "stats.levene(*groups.values())"
   ]
  },
  {
   "cell_type": "code",
   "execution_count": 44,
   "id": "e4e713fe-9c0f-42ea-aa8c-b4a7c0d39652",
   "metadata": {},
   "outputs": [
    {
     "data": {
      "text/plain": [
       "4"
      ]
     },
     "execution_count": 44,
     "metadata": {},
     "output_type": "execute_result"
    }
   ],
   "source": [
    "# Outliers\n",
    "zscores_groups = stats.zscore(data)\n",
    "outliers_groups = abs(zscores_groups)>3\n",
    "np.sum(outliers_groups)"
   ]
  },
  {
   "cell_type": "code",
   "execution_count": 64,
   "id": "e30be6fb-afba-4672-a8f1-b77a420b9d81",
   "metadata": {},
   "outputs": [],
   "source": [
    "# Removing outliers\n",
    "data = data[(np.abs(stats.zscore(data)) < 3)]"
   ]
  },
  {
   "cell_type": "code",
   "execution_count": 65,
   "id": "018bad7c-e4c7-4585-9edf-9d56d7383bfd",
   "metadata": {},
   "outputs": [
    {
     "data": {
      "text/plain": [
       "0"
      ]
     },
     "execution_count": 65,
     "metadata": {},
     "output_type": "execute_result"
    }
   ],
   "source": [
    "# Checking for outliers again\n",
    "zscores_groups = stats.zscore(data)\n",
    "outliers_groups = abs(zscores_groups)>3\n",
    "np.sum(outliers_groups)"
   ]
  },
  {
   "cell_type": "code",
   "execution_count": 73,
   "id": "40c9cd4c-994f-4638-9c8c-72da0af7627e",
   "metadata": {},
   "outputs": [
    {
     "name": "stdout",
     "output_type": "stream",
     "text": [
      "F_onewayResult(statistic=2.96962669358912, pvalue=0.0308933560705201)\n"
     ]
    },
    {
     "data": {
      "text/plain": [
       "True"
      ]
     },
     "execution_count": 73,
     "metadata": {},
     "output_type": "execute_result"
    }
   ],
   "source": [
    "# Executing test\n",
    "result = stats.f_oneway( *groups.values())\n",
    "print(result)\n",
    "result.pvalue < 0.05"
   ]
  },
  {
   "cell_type": "code",
   "execution_count": 74,
   "id": "c188dfec-7b17-4834-9eae-aab27f7c64ee",
   "metadata": {},
   "outputs": [],
   "source": [
    "# Which groups are significant?\n",
    "\n",
    "# saving the values as charges and regions\n",
    "## save the values as kg_lost and the labels to the Diet\n",
    "values = df[\"charges\"]\n",
    "labels = df[\"region\"]"
   ]
  },
  {
   "cell_type": "code",
   "execution_count": 75,
   "id": "c42e84ab-361d-44c9-a5ef-3751d2ea8317",
   "metadata": {},
   "outputs": [
    {
     "data": {
      "text/html": [
       "<table class=\"simpletable\">\n",
       "<caption>Multiple Comparison of Means - Tukey HSD, FWER=0.05</caption>\n",
       "<tr>\n",
       "   <th>group1</th>    <th>group2</th>    <th>meandiff</th>   <th>p-adj</th>    <th>lower</th>     <th>upper</th>   <th>reject</th>\n",
       "</tr>\n",
       "<tr>\n",
       "  <td>northeast</td> <td>northwest</td>  <td>-988.8091</td> <td>0.7245</td> <td>-3428.9343</td> <td>1451.3161</td>  <td>False</td>\n",
       "</tr>\n",
       "<tr>\n",
       "  <td>northeast</td> <td>southeast</td>  <td>1329.0269</td> <td>0.4745</td> <td>-1044.9417</td> <td>3702.9955</td>  <td>False</td>\n",
       "</tr>\n",
       "<tr>\n",
       "  <td>northeast</td> <td>southwest</td> <td>-1059.4471</td> <td>0.6792</td> <td>-3499.5723</td> <td>1380.6781</td>  <td>False</td>\n",
       "</tr>\n",
       "<tr>\n",
       "  <td>northwest</td> <td>southeast</td>  <td>2317.8361</td> <td>0.0583</td>  <td>-54.1994</td>  <td>4689.8716</td>  <td>False</td>\n",
       "</tr>\n",
       "<tr>\n",
       "  <td>northwest</td> <td>southwest</td>   <td>-70.638</td>  <td>0.9999</td> <td>-2508.8826</td> <td>2367.6066</td>  <td>False</td>\n",
       "</tr>\n",
       "<tr>\n",
       "  <td>southeast</td> <td>southwest</td> <td>-2388.4741</td> <td>0.0477</td> <td>-4760.5096</td> <td>-16.4386</td>   <td>True</td> \n",
       "</tr>\n",
       "</table>"
      ],
      "text/latex": [
       "\\begin{center}\n",
       "\\begin{tabular}{ccccccc}\n",
       "\\toprule\n",
       "\\textbf{group1} & \\textbf{group2} & \\textbf{meandiff} & \\textbf{p-adj} & \\textbf{lower} & \\textbf{upper} & \\textbf{reject}  \\\\\n",
       "\\midrule\n",
       "   northeast    &    northwest    &     -988.8091     &     0.7245     &   -3428.9343   &   1451.3161    &      False       \\\\\n",
       "   northeast    &    southeast    &     1329.0269     &     0.4745     &   -1044.9417   &   3702.9955    &      False       \\\\\n",
       "   northeast    &    southwest    &     -1059.4471    &     0.6792     &   -3499.5723   &   1380.6781    &      False       \\\\\n",
       "   northwest    &    southeast    &     2317.8361     &     0.0583     &    -54.1994    &   4689.8716    &      False       \\\\\n",
       "   northwest    &    southwest    &      -70.638      &     0.9999     &   -2508.8826   &   2367.6066    &      False       \\\\\n",
       "   southeast    &    southwest    &     -2388.4741    &     0.0477     &   -4760.5096   &    -16.4386    &       True       \\\\\n",
       "\\bottomrule\n",
       "\\end{tabular}\n",
       "%\\caption{Multiple Comparison of Means - Tukey HSD, FWER=0.05}\n",
       "\\end{center}"
      ],
      "text/plain": [
       "<class 'statsmodels.iolib.table.SimpleTable'>"
      ]
     },
     "execution_count": 75,
     "metadata": {},
     "output_type": "execute_result"
    }
   ],
   "source": [
    "## performing tukey's multiple comparison test and display the summary\n",
    "tukeys_results = pairwise_tukeyhsd(values,labels)\n",
    "tukeys_results.summary()"
   ]
  },
  {
   "cell_type": "markdown",
   "id": "dc655a3e-3c96-4be0-9dee-ccb869fd55ef",
   "metadata": {},
   "source": [
    "# Interpreting p-value and reject or fail to reject the null hypothesis \n",
    "There is a significant difference between the south east and south west regions. We can therefore reject our null hypothesis which was: \"There is no difference in average charges across different regions.\" The insurance charges for the southeast region are significantly higher compared to other regions."
   ]
  },
  {
   "cell_type": "code",
   "execution_count": 76,
   "id": "c785b0c0-2fab-4d7f-9914-205a636288bc",
   "metadata": {},
   "outputs": [
    {
     "data": {
      "image/png": "[encoded data removed]",
      "text/plain": [
       "<Figure size 640x480 with 1 Axes>"
      ]
     },
     "metadata": {},
     "output_type": "display_data"
    }
   ],
   "source": [
    "# Supporting visual\n",
    "ax = sns.barplot(data = df, x=\"region\", y = \"charges\")\n",
    "ax.set_title(\"Barplot showing average insurance charges across different regions\");"
   ]
  }
 ],
 "metadata": {
  "kernelspec": {
   "display_name": "Python (dojo-env)",
   "language": "python",
   "name": "dojo-env"
  },
  "language_info": {
   "codemirror_mode": {
    "name": "ipython",
    "version": 3
   },
   "file_extension": ".py",
   "mimetype": "text/x-python",
   "name": "python",
   "nbconvert_exporter": "python",
   "pygments_lexer": "ipython3",
   "version": "3.10.10"
  },
  "widgets": {
   "application/vnd.jupyter.widget-state+json": {
    "state": {},
    "version_major": 2,
    "version_minor": 0
   }
  }
 },
 "nbformat": 4,
 "nbformat_minor": 5
}
